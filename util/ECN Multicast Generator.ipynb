{
 "cells": [
  {
   "cell_type": "code",
   "execution_count": 1,
   "metadata": {
    "collapsed": true
   },
   "outputs": [],
   "source": [
    "import socket\n",
    "import random"
   ]
  },
  {
   "cell_type": "code",
   "execution_count": 2,
   "metadata": {
    "collapsed": false
   },
   "outputs": [],
   "source": [
    "sock = socket.socket(socket.AF_INET, socket.SOCK_DGRAM, socket.IPPROTO_UDP)\n",
    "sock.setsockopt(socket.IPPROTO_IP, socket.IP_MULTICAST_TTL, 2)"
   ]
  },
  {
   "cell_type": "code",
   "execution_count": 24,
   "metadata": {
    "collapsed": false
   },
   "outputs": [],
   "source": [
    "def make_ecn(type):\n",
    "    magic = bytes(\"ECNDGI00\", encoding='utf-8')\n",
    "    ecn_type = bytes([type])\n",
    "    origin = bytes([127,0,0,1])\n",
    "    source = bytes([127,0,0,1])\n",
    "    destination = (1870).to_bytes(2, byteorder='big')\n",
    "    qsize = (1337).to_bytes(4, byteorder='big')\n",
    "    msg = magic + ecn_type + origin + source + destination + qsize\n",
    "    print(len(msg))\n",
    "    print(msg) \n",
    "    return msg"
   ]
  },
  {
   "cell_type": "code",
   "execution_count": 26,
   "metadata": {
    "collapsed": false
   },
   "outputs": [
    {
     "name": "stdout",
     "output_type": "stream",
     "text": [
      "23\n",
      "b'ECNDGI00\\x01\\x7f\\x00\\x00\\x01\\x7f\\x00\\x00\\x01\\x07N\\x00\\x00\\x059'\n"
     ]
    },
    {
     "data": {
      "text/plain": [
       "23"
      ]
     },
     "execution_count": 26,
     "metadata": {},
     "output_type": "execute_result"
    }
   ],
   "source": [
    "sock.sendto(make_ecn(1), (\"224.0.0.1\", 51871))"
   ]
  },
  {
   "cell_type": "code",
   "execution_count": 19,
   "metadata": {
    "collapsed": false
   },
   "outputs": [
    {
     "name": "stdout",
     "output_type": "stream",
     "text": [
      "23\n",
      "b'ECNDGI00\\x00\\x7f\\x00\\x00\\x01\\x7f\\x00\\x00\\x01\\x07N\\x00\\x00\\x00\\x1f'\n",
      "23\n",
      "b'ECNDGI00\\x00\\x7f\\x00\\x00\\x01\\x7f\\x00\\x00\\x01\\x07N\\x00\\x00\\x00\\xbe'\n",
      "23\n",
      "b'ECNDGI00\\x00\\x7f\\x00\\x00\\x01\\x7f\\x00\\x00\\x01\\x07N\\x00\\x00\\x01\\x9d'\n",
      "23\n",
      "b'ECNDGI00\\x00\\x7f\\x00\\x00\\x01\\x7f\\x00\\x00\\x01\\x07N\\x00\\x00\\x01\\x1d'\n",
      "23\n",
      "b'ECNDGI00\\x00\\x7f\\x00\\x00\\x01\\x7f\\x00\\x00\\x01\\x07N\\x00\\x00\\x00\\xd3'\n",
      "23\n",
      "b'ECNDGI00\\x00\\x7f\\x00\\x00\\x01\\x7f\\x00\\x00\\x01\\x07N\\x00\\x00\\x01]'\n",
      "23\n",
      "b'ECNDGI00\\x00\\x7f\\x00\\x00\\x01\\x7f\\x00\\x00\\x01\\x07N\\x00\\x00\\x017'\n",
      "23\n",
      "b'ECNDGI00\\x00\\x7f\\x00\\x00\\x01\\x7f\\x00\\x00\\x01\\x07N\\x00\\x00\\x01s'\n",
      "23\n",
      "b'ECNDGI00\\x00\\x7f\\x00\\x00\\x01\\x7f\\x00\\x00\\x01\\x07N\\x00\\x00\\x01\\xd2'\n",
      "23\n",
      "b'ECNDGI00\\x00\\x7f\\x00\\x00\\x01\\x7f\\x00\\x00\\x01\\x07N\\x00\\x00\\x01\\x82'\n",
      "23\n",
      "b'ECNDGI00\\x00\\x7f\\x00\\x00\\x01\\x7f\\x00\\x00\\x01\\x07N\\x00\\x00\\x00T'\n",
      "23\n",
      "b'ECNDGI00\\x00\\x7f\\x00\\x00\\x01\\x7f\\x00\\x00\\x01\\x07N\\x00\\x00\\x00\\x06'\n",
      "23\n",
      "b'ECNDGI00\\x00\\x7f\\x00\\x00\\x01\\x7f\\x00\\x00\\x01\\x07N\\x00\\x00\\x01\\xa1'\n",
      "23\n",
      "b'ECNDGI00\\x00\\x7f\\x00\\x00\\x01\\x7f\\x00\\x00\\x01\\x07N\\x00\\x00\\x00\\xb5'\n",
      "23\n",
      "b'ECNDGI00\\x00\\x7f\\x00\\x00\\x01\\x7f\\x00\\x00\\x01\\x07N\\x00\\x00\\x00d'\n",
      "23\n",
      "b'ECNDGI00\\x00\\x7f\\x00\\x00\\x01\\x7f\\x00\\x00\\x01\\x07N\\x00\\x00\\x00w'\n",
      "23\n",
      "b'ECNDGI00\\x00\\x7f\\x00\\x00\\x01\\x7f\\x00\\x00\\x01\\x07N\\x00\\x00\\x01\\xb9'\n",
      "23\n",
      "b'ECNDGI00\\x00\\x7f\\x00\\x00\\x01\\x7f\\x00\\x00\\x01\\x07N\\x00\\x00\\x01C'\n",
      "23\n",
      "b'ECNDGI00\\x00\\x7f\\x00\\x00\\x01\\x7f\\x00\\x00\\x01\\x07N\\x00\\x00\\x00\\x12'\n",
      "23\n",
      "b'ECNDGI00\\x00\\x7f\\x00\\x00\\x01\\x7f\\x00\\x00\\x01\\x07N\\x00\\x00\\x01\\xe9'\n",
      "23\n",
      "b'ECNDGI00\\x00\\x7f\\x00\\x00\\x01\\x7f\\x00\\x00\\x01\\x07N\\x00\\x00\\x01L'\n",
      "23\n",
      "b'ECNDGI00\\x00\\x7f\\x00\\x00\\x01\\x7f\\x00\\x00\\x01\\x07N\\x00\\x00\\x01_'\n",
      "23\n",
      "b'ECNDGI00\\x00\\x7f\\x00\\x00\\x01\\x7f\\x00\\x00\\x01\\x07N\\x00\\x00\\x01\\x9c'\n",
      "23\n",
      "b'ECNDGI00\\x00\\x7f\\x00\\x00\\x01\\x7f\\x00\\x00\\x01\\x07N\\x00\\x00\\x01h'\n",
      "23\n",
      "b'ECNDGI00\\x00\\x7f\\x00\\x00\\x01\\x7f\\x00\\x00\\x01\\x07N\\x00\\x00\\x01}'\n",
      "23\n",
      "b'ECNDGI00\\x00\\x7f\\x00\\x00\\x01\\x7f\\x00\\x00\\x01\\x07N\\x00\\x00\\x00m'\n",
      "23\n",
      "b'ECNDGI00\\x00\\x7f\\x00\\x00\\x01\\x7f\\x00\\x00\\x01\\x07N\\x00\\x00\\x00\\xac'\n",
      "23\n",
      "b'ECNDGI00\\x00\\x7f\\x00\\x00\\x01\\x7f\\x00\\x00\\x01\\x07N\\x00\\x00\\x01\\x99'\n",
      "23\n",
      "b'ECNDGI00\\x00\\x7f\\x00\\x00\\x01\\x7f\\x00\\x00\\x01\\x07N\\x00\\x00\\x01\\xef'\n",
      "23\n",
      "b'ECNDGI00\\x00\\x7f\\x00\\x00\\x01\\x7f\\x00\\x00\\x01\\x07N\\x00\\x00\\x01\\xba'\n",
      "23\n",
      "b'ECNDGI00\\x00\\x7f\\x00\\x00\\x01\\x7f\\x00\\x00\\x01\\x07N\\x00\\x00\\x01B'\n",
      "23\n",
      "b'ECNDGI00\\x00\\x7f\\x00\\x00\\x01\\x7f\\x00\\x00\\x01\\x07N\\x00\\x00\\x01\\xbe'\n",
      "23\n",
      "b'ECNDGI00\\x00\\x7f\\x00\\x00\\x01\\x7f\\x00\\x00\\x01\\x07N\\x00\\x00\\x00j'\n",
      "23\n",
      "b'ECNDGI00\\x00\\x7f\\x00\\x00\\x01\\x7f\\x00\\x00\\x01\\x07N\\x00\\x00\\x00^'\n",
      "23\n",
      "b'ECNDGI00\\x00\\x7f\\x00\\x00\\x01\\x7f\\x00\\x00\\x01\\x07N\\x00\\x00\\x01\\x99'\n",
      "23\n",
      "b'ECNDGI00\\x00\\x7f\\x00\\x00\\x01\\x7f\\x00\\x00\\x01\\x07N\\x00\\x00\\x01)'\n",
      "23\n",
      "b'ECNDGI00\\x00\\x7f\\x00\\x00\\x01\\x7f\\x00\\x00\\x01\\x07N\\x00\\x00\\x01\\x8f'\n",
      "23\n",
      "b'ECNDGI00\\x00\\x7f\\x00\\x00\\x01\\x7f\\x00\\x00\\x01\\x07N\\x00\\x00\\x00?'\n",
      "23\n",
      "b'ECNDGI00\\x00\\x7f\\x00\\x00\\x01\\x7f\\x00\\x00\\x01\\x07N\\x00\\x00\\x01\\x97'\n",
      "23\n",
      "b'ECNDGI00\\x00\\x7f\\x00\\x00\\x01\\x7f\\x00\\x00\\x01\\x07N\\x00\\x00\\x00-'\n",
      "23\n",
      "b'ECNDGI00\\x00\\x7f\\x00\\x00\\x01\\x7f\\x00\\x00\\x01\\x07N\\x00\\x00\\x00\\x1a'\n",
      "23\n",
      "b'ECNDGI00\\x00\\x7f\\x00\\x00\\x01\\x7f\\x00\\x00\\x01\\x07N\\x00\\x00\\x01\\x8a'\n",
      "23\n",
      "b'ECNDGI00\\x00\\x7f\\x00\\x00\\x01\\x7f\\x00\\x00\\x01\\x07N\\x00\\x00\\x00\\xcd'\n",
      "23\n",
      "b'ECNDGI00\\x00\\x7f\\x00\\x00\\x01\\x7f\\x00\\x00\\x01\\x07N\\x00\\x00\\x00|'\n",
      "23\n",
      "b'ECNDGI00\\x00\\x7f\\x00\\x00\\x01\\x7f\\x00\\x00\\x01\\x07N\\x00\\x00\\x00\\x13'\n",
      "23\n",
      "b'ECNDGI00\\x00\\x7f\\x00\\x00\\x01\\x7f\\x00\\x00\\x01\\x07N\\x00\\x00\\x00/'\n",
      "23\n",
      "b'ECNDGI00\\x00\\x7f\\x00\\x00\\x01\\x7f\\x00\\x00\\x01\\x07N\\x00\\x00\\x01\\xbb'\n",
      "23\n",
      "b'ECNDGI00\\x00\\x7f\\x00\\x00\\x01\\x7f\\x00\\x00\\x01\\x07N\\x00\\x00\\x01O'\n",
      "23\n",
      "b'ECNDGI00\\x00\\x7f\\x00\\x00\\x01\\x7f\\x00\\x00\\x01\\x07N\\x00\\x00\\x00T'\n",
      "23\n",
      "b'ECNDGI00\\x00\\x7f\\x00\\x00\\x01\\x7f\\x00\\x00\\x01\\x07N\\x00\\x00\\x00\\xb9'\n",
      "23\n",
      "b'ECNDGI00\\x00\\x7f\\x00\\x00\\x01\\x7f\\x00\\x00\\x01\\x07N\\x00\\x00\\x00X'\n",
      "23\n",
      "b'ECNDGI00\\x00\\x7f\\x00\\x00\\x01\\x7f\\x00\\x00\\x01\\x07N\\x00\\x00\\x00\\x15'\n",
      "23\n",
      "b'ECNDGI00\\x00\\x7f\\x00\\x00\\x01\\x7f\\x00\\x00\\x01\\x07N\\x00\\x00\\x01%'\n",
      "23\n",
      "b'ECNDGI00\\x00\\x7f\\x00\\x00\\x01\\x7f\\x00\\x00\\x01\\x07N\\x00\\x00\\x00*'\n",
      "23\n",
      "b'ECNDGI00\\x00\\x7f\\x00\\x00\\x01\\x7f\\x00\\x00\\x01\\x07N\\x00\\x00\\x00\\xe7'\n",
      "23\n",
      "b'ECNDGI00\\x00\\x7f\\x00\\x00\\x01\\x7f\\x00\\x00\\x01\\x07N\\x00\\x00\\x01;'\n",
      "23\n",
      "b'ECNDGI00\\x00\\x7f\\x00\\x00\\x01\\x7f\\x00\\x00\\x01\\x07N\\x00\\x00\\x00\\\\'\n",
      "23\n",
      "b'ECNDGI00\\x00\\x7f\\x00\\x00\\x01\\x7f\\x00\\x00\\x01\\x07N\\x00\\x00\\x00\\xad'\n",
      "23\n",
      "b'ECNDGI00\\x00\\x7f\\x00\\x00\\x01\\x7f\\x00\\x00\\x01\\x07N\\x00\\x00\\x00\\x1b'\n",
      "23\n",
      "b'ECNDGI00\\x00\\x7f\\x00\\x00\\x01\\x7f\\x00\\x00\\x01\\x07N\\x00\\x00\\x01Q'\n",
      "23\n",
      "b'ECNDGI00\\x00\\x7f\\x00\\x00\\x01\\x7f\\x00\\x00\\x01\\x07N\\x00\\x00\\x00\\xbd'\n",
      "23\n",
      "b'ECNDGI00\\x00\\x7f\\x00\\x00\\x01\\x7f\\x00\\x00\\x01\\x07N\\x00\\x00\\x00\\x1d'\n",
      "23\n",
      "b'ECNDGI00\\x00\\x7f\\x00\\x00\\x01\\x7f\\x00\\x00\\x01\\x07N\\x00\\x00\\x00K'\n",
      "23\n",
      "b'ECNDGI00\\x00\\x7f\\x00\\x00\\x01\\x7f\\x00\\x00\\x01\\x07N\\x00\\x00\\x00\\xdd'\n",
      "23\n",
      "b'ECNDGI00\\x00\\x7f\\x00\\x00\\x01\\x7f\\x00\\x00\\x01\\x07N\\x00\\x00\\x00\\x19'\n",
      "23\n",
      "b'ECNDGI00\\x00\\x7f\\x00\\x00\\x01\\x7f\\x00\\x00\\x01\\x07N\\x00\\x00\\x00y'\n",
      "23\n",
      "b'ECNDGI00\\x00\\x7f\\x00\\x00\\x01\\x7f\\x00\\x00\\x01\\x07N\\x00\\x00\\x00\\xce'\n",
      "23\n",
      "b'ECNDGI00\\x00\\x7f\\x00\\x00\\x01\\x7f\\x00\\x00\\x01\\x07N\\x00\\x00\\x01\\xd8'\n",
      "23\n",
      "b'ECNDGI00\\x00\\x7f\\x00\\x00\\x01\\x7f\\x00\\x00\\x01\\x07N\\x00\\x00\\x00\\xa8'\n",
      "23\n",
      "b'ECNDGI00\\x00\\x7f\\x00\\x00\\x01\\x7f\\x00\\x00\\x01\\x07N\\x00\\x00\\x00K'\n",
      "23\n",
      "b'ECNDGI00\\x00\\x7f\\x00\\x00\\x01\\x7f\\x00\\x00\\x01\\x07N\\x00\\x00\\x00&'\n",
      "23\n",
      "b'ECNDGI00\\x00\\x7f\\x00\\x00\\x01\\x7f\\x00\\x00\\x01\\x07N\\x00\\x00\\x01\\x18'\n",
      "23\n",
      "b'ECNDGI00\\x00\\x7f\\x00\\x00\\x01\\x7f\\x00\\x00\\x01\\x07N\\x00\\x00\\x00\\xbe'\n",
      "23\n",
      "b'ECNDGI00\\x00\\x7f\\x00\\x00\\x01\\x7f\\x00\\x00\\x01\\x07N\\x00\\x00\\x00\\x8b'\n",
      "23\n",
      "b'ECNDGI00\\x00\\x7f\\x00\\x00\\x01\\x7f\\x00\\x00\\x01\\x07N\\x00\\x00\\x01\\xc0'\n",
      "23\n",
      "b'ECNDGI00\\x00\\x7f\\x00\\x00\\x01\\x7f\\x00\\x00\\x01\\x07N\\x00\\x00\\x00\\x99'\n",
      "23\n",
      "b'ECNDGI00\\x00\\x7f\\x00\\x00\\x01\\x7f\\x00\\x00\\x01\\x07N\\x00\\x00\\x01\\xae'\n"
     ]
    },
    {
     "ename": "KeyboardInterrupt",
     "evalue": "",
     "output_type": "error",
     "traceback": [
      "\u001b[1;31m---------------------------------------------------------------------------\u001b[0m",
      "\u001b[1;31mKeyboardInterrupt\u001b[0m                         Traceback (most recent call last)",
      "\u001b[1;32m<ipython-input-19-ee072ac3dc40>\u001b[0m in \u001b[0;36m<module>\u001b[1;34m()\u001b[0m\n\u001b[0;32m      2\u001b[0m \u001b[1;32mwhile\u001b[0m \u001b[1;36m1\u001b[0m\u001b[1;33m:\u001b[0m\u001b[1;33m\u001b[0m\u001b[0m\n\u001b[0;32m      3\u001b[0m     \u001b[0msock\u001b[0m\u001b[1;33m.\u001b[0m\u001b[0msendto\u001b[0m\u001b[1;33m(\u001b[0m\u001b[0mmake_ecn\u001b[0m\u001b[1;33m(\u001b[0m\u001b[1;36m0\u001b[0m\u001b[1;33m)\u001b[0m\u001b[1;33m,\u001b[0m \u001b[1;33m(\u001b[0m\u001b[1;34m\"224.0.0.1\"\u001b[0m\u001b[1;33m,\u001b[0m \u001b[1;36m2870\u001b[0m\u001b[1;33m)\u001b[0m\u001b[1;33m)\u001b[0m\u001b[1;33m\u001b[0m\u001b[0m\n\u001b[1;32m----> 4\u001b[1;33m     \u001b[0mtime\u001b[0m\u001b[1;33m.\u001b[0m\u001b[0msleep\u001b[0m\u001b[1;33m(\u001b[0m\u001b[1;36m1\u001b[0m\u001b[1;33m)\u001b[0m\u001b[1;33m\u001b[0m\u001b[0m\n\u001b[0m",
      "\u001b[1;31mKeyboardInterrupt\u001b[0m: "
     ]
    }
   ],
   "source": [
    "import time\n",
    "while 1:\n",
    "    sock.sendto(make_ecn(0), (\"224.0.0.1\", 2870))\n",
    "    time.sleep(1)"
   ]
  },
  {
   "cell_type": "code",
   "execution_count": null,
   "metadata": {
    "collapsed": true
   },
   "outputs": [],
   "source": []
  }
 ],
 "metadata": {
  "kernelspec": {
   "display_name": "Python 3",
   "language": "python",
   "name": "python3"
  },
  "language_info": {
   "codemirror_mode": {
    "name": "ipython",
    "version": 3
   },
   "file_extension": ".py",
   "mimetype": "text/x-python",
   "name": "python",
   "nbconvert_exporter": "python",
   "pygments_lexer": "ipython3",
   "version": "3.5.1"
  }
 },
 "nbformat": 4,
 "nbformat_minor": 0
}
